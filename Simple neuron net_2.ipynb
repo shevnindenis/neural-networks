{
 "cells": [
  {
   "cell_type": "code",
   "execution_count": 128,
   "metadata": {},
   "outputs": [
    {
     "name": "stdout",
     "output_type": "stream",
     "text": [
      "-0.018293284971249293, -0.0075185513677826785\n"
     ]
    }
   ],
   "source": [
    "import numpy as np\n",
    "\n",
    "sigma = lambda x: np.exp(x)/(1+np.exp(x))\n",
    "sigma_derivative = lambda x: sigma(x)*(1-sigma(x))\n",
    "\n",
    "relu = np.vectorize(lambda x: x if x > 0 else x)\n",
    "relu_derivative = np.vectorize(lambda x: 1 if x > 0 else x)\n",
    "\n",
    "xs = np.array([[0,1,1]])\n",
    "ys = np.array([[1]])\n",
    "w1 = np.array([[0.7,0.2,0.7], [0.8,0.3,0.6]])\n",
    "w2 = np.array([[0.2,0.4]])\n",
    "\n",
    "#Forvard_propogation\n",
    "z1 = xs.dot(w1.T)\n",
    "a1 = np.hstack((relu(z1[:,0]),sigma(z1[:,1])))\n",
    "\n",
    "z2 = a1.dot(w2.T)\n",
    "a2 = sigma(z2)\n",
    "\n",
    "#Back propogation\n",
    "delta2 = (a2-ys)*sigma_derivative(z2)\n",
    "delta1 = d2.dot(w2)*np.hstack((relu_derivative(z1[:,0]),sigma_derivative(z1[:,1])))\n",
    "delta0 = d1.dot(w1)*sigma_derivative(xs)\n",
    "print('{}, {}'.format(xs[0][2] * delta1[0][0], xs[0][2] * delta1[0][1]))"
   ]
  },
  {
   "cell_type": "code",
   "execution_count": null,
   "metadata": {},
   "outputs": [],
   "source": []
  }
 ],
 "metadata": {
  "kernelspec": {
   "display_name": "Python 3",
   "language": "python",
   "name": "python3"
  },
  "language_info": {
   "codemirror_mode": {
    "name": "ipython",
    "version": 3
   },
   "file_extension": ".py",
   "mimetype": "text/x-python",
   "name": "python",
   "nbconvert_exporter": "python",
   "pygments_lexer": "ipython3",
   "version": "3.7.3"
  }
 },
 "nbformat": 4,
 "nbformat_minor": 2
}
